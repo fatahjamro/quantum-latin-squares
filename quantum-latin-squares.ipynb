{
 "cells": [
  {
   "attachments": {},
   "cell_type": "markdown",
   "metadata": {},
   "source": [
    "# Quantum Orthogonal Latin Squares\n",
    "\n",
    "* ### *Euler’s 243-Year-Old ‘Impossible’ Puzzle Gets a Quantum Solution*\n",
    "\n",
    "### Introduction\n",
    "\n",
    "**Definition.** A latin square of order n is a n × n array, filled with symbols {1, . . . n}, such that no symbol is repeated twice in any row or column.\n",
    "**Example.** Here are all of the latin squares of order 2: \n",
    "\n",
    "${[1, 2],[2,1]}$ and ${[[2,1],[1,2]]}$\n",
    "\n",
    "**Question.** How many are there for order $3$ matrix?\n",
    "$([1,2,3],[2,3,1],[3,1,2])$?\n",
    "**Answer.** We can get 12 distinct latin squares.\n",
    "\n",
    "**Defination.** Two latin squares $A$ and $B$ are called **equivalent iff a sequence of permutations of the form \n",
    "1. $R_{ij}$, the permuation that swaps rows $i$ and $j$,\n",
    "2. $C_{ij}$, the permuation that swaps columns $i$ and $j$,\n",
    "3. $S_{ij}$, the permuation that swaps symbols $i$ and $j$\n",
    "4. $RC$, the three permuations that swaps all of the rows for all of the columns,\n",
    "5. $RS$, the three permuations that swaps all of the rows for all of the symbols,\n",
    "6. $CS$, the three permuations that swaps all of the columns for all of the symbols,\n",
    "\n",
    "can transform $A$ into $B$\n"
   ]
  },
  {
   "attachments": {},
   "cell_type": "markdown",
   "metadata": {},
   "source": [
    "## Euler's question\n",
    "**Question.** (Euler’s Thirty-Six Office Problem) Suppose that we have 36 officers, and split them into 6 regiments all of size 6. Suppose furthermore that within each regiment we give each office a rank from 1 (cadet) to 6 (brigadier). Is there a way to arrange these 36 officers into a 6 by 6 latin square, so that in every row and every column, every rank and regiment is represented?\n",
    "\n",
    "In the language of orthogonal latin squares, \n",
    "**Question.** Are there a pair of mutually orthogonal 6 × 6 latin squares?\n"
   ]
  },
  {
   "attachments": {},
   "cell_type": "markdown",
   "metadata": {},
   "source": [
    "**Ideas:** We might find the quantum solution of above question instead of classical solution.\n",
    " \n",
    "1. we can write a review paper on quantum orthogonal latin squares\n",
    "2. We can try to find solution on quantum computers using Variational Quantum algorithm (VQA).\n"
   ]
  },
  {
   "cell_type": "code",
   "execution_count": null,
   "metadata": {
    "vscode": {
     "languageId": "plaintext"
    }
   },
   "outputs": [],
   "source": []
  }
 ],
 "metadata": {
  "language_info": {
   "name": "python"
  },
  "orig_nbformat": 4
 },
 "nbformat": 4,
 "nbformat_minor": 2
}
